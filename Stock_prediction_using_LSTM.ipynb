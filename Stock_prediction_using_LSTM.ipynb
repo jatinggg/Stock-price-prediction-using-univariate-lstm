{
  "nbformat": 4,
  "nbformat_minor": 0,
  "metadata": {
    "colab": {
      "name": "Stock_prediction_using_LSTM.ipynb",
      "provenance": [],
      "collapsed_sections": []
    },
    "kernelspec": {
      "name": "python3",
      "display_name": "Python 3"
    },
    "accelerator": "GPU"
  },
  "cells": [
    {
      "cell_type": "code",
      "metadata": {
        "colab": {
          "base_uri": "https://localhost:8080/"
        },
        "id": "A2cxXri0rxTk",
        "outputId": "8851587f-53fe-4463-cbba-67044b1dfe11"
      },
      "source": [
        "from google.colab import drive\n",
        "drive.mount('/content/drive')"
      ],
      "execution_count": null,
      "outputs": [
        {
          "output_type": "stream",
          "text": [
            "Drive already mounted at /content/drive; to attempt to forcibly remount, call drive.mount(\"/content/drive\", force_remount=True).\n"
          ],
          "name": "stdout"
        }
      ]
    },
    {
      "cell_type": "code",
      "metadata": {
        "id": "UVCjIf3xT9c3"
      },
      "source": [
        "import pandas as pd\r\n",
        "df=pd.read_csv('/content/drive/MyDrive/Praedico/NIFTY 50_Data.csv')"
      ],
      "execution_count": null,
      "outputs": []
    },
    {
      "cell_type": "code",
      "metadata": {
        "colab": {
          "base_uri": "https://localhost:8080/",
          "height": 404
        },
        "id": "pv6Yf6McUxyR",
        "outputId": "37fe6bf2-c30b-4226-c699-8a568c47b80a"
      },
      "source": [
        "\n",
        "df= df.iloc[::-1]\n",
        "df"
      ],
      "execution_count": null,
      "outputs": [
        {
          "output_type": "execute_result",
          "data": {
            "text/html": [
              "<div>\n",
              "<style scoped>\n",
              "    .dataframe tbody tr th:only-of-type {\n",
              "        vertical-align: middle;\n",
              "    }\n",
              "\n",
              "    .dataframe tbody tr th {\n",
              "        vertical-align: top;\n",
              "    }\n",
              "\n",
              "    .dataframe thead th {\n",
              "        text-align: right;\n",
              "    }\n",
              "</style>\n",
              "<table border=\"1\" class=\"dataframe\">\n",
              "  <thead>\n",
              "    <tr style=\"text-align: right;\">\n",
              "      <th></th>\n",
              "      <th>Date</th>\n",
              "      <th>Open</th>\n",
              "      <th>High</th>\n",
              "      <th>Low</th>\n",
              "      <th>Close</th>\n",
              "    </tr>\n",
              "  </thead>\n",
              "  <tbody>\n",
              "    <tr>\n",
              "      <th>5246</th>\n",
              "      <td>03-Jan-00</td>\n",
              "      <td>1482.15</td>\n",
              "      <td>1592.90</td>\n",
              "      <td>1482.15</td>\n",
              "      <td>1592.20</td>\n",
              "    </tr>\n",
              "    <tr>\n",
              "      <th>5245</th>\n",
              "      <td>04-Jan-00</td>\n",
              "      <td>1594.40</td>\n",
              "      <td>1641.95</td>\n",
              "      <td>1594.40</td>\n",
              "      <td>1638.70</td>\n",
              "    </tr>\n",
              "    <tr>\n",
              "      <th>5244</th>\n",
              "      <td>05-Jan-00</td>\n",
              "      <td>1634.55</td>\n",
              "      <td>1635.50</td>\n",
              "      <td>1555.05</td>\n",
              "      <td>1595.80</td>\n",
              "    </tr>\n",
              "    <tr>\n",
              "      <th>5243</th>\n",
              "      <td>06-Jan-00</td>\n",
              "      <td>1595.80</td>\n",
              "      <td>1639.00</td>\n",
              "      <td>1595.80</td>\n",
              "      <td>1617.60</td>\n",
              "    </tr>\n",
              "    <tr>\n",
              "      <th>5242</th>\n",
              "      <td>07-Jan-00</td>\n",
              "      <td>1616.60</td>\n",
              "      <td>1628.25</td>\n",
              "      <td>1597.20</td>\n",
              "      <td>1613.30</td>\n",
              "    </tr>\n",
              "    <tr>\n",
              "      <th>...</th>\n",
              "      <td>...</td>\n",
              "      <td>...</td>\n",
              "      <td>...</td>\n",
              "      <td>...</td>\n",
              "      <td>...</td>\n",
              "    </tr>\n",
              "    <tr>\n",
              "      <th>4</th>\n",
              "      <td>27-01-2021</td>\n",
              "      <td>14237.95</td>\n",
              "      <td>14237.95</td>\n",
              "      <td>13929.30</td>\n",
              "      <td>13967.50</td>\n",
              "    </tr>\n",
              "    <tr>\n",
              "      <th>3</th>\n",
              "      <td>28-01-2021</td>\n",
              "      <td>13810.40</td>\n",
              "      <td>13898.25</td>\n",
              "      <td>13713.25</td>\n",
              "      <td>13817.55</td>\n",
              "    </tr>\n",
              "    <tr>\n",
              "      <th>2</th>\n",
              "      <td>29-01-2021</td>\n",
              "      <td>13946.60</td>\n",
              "      <td>13966.85</td>\n",
              "      <td>13596.75</td>\n",
              "      <td>13634.60</td>\n",
              "    </tr>\n",
              "    <tr>\n",
              "      <th>1</th>\n",
              "      <td>01-02-2021</td>\n",
              "      <td>13758.60</td>\n",
              "      <td>14336.35</td>\n",
              "      <td>13661.75</td>\n",
              "      <td>14281.20</td>\n",
              "    </tr>\n",
              "    <tr>\n",
              "      <th>0</th>\n",
              "      <td>02-02-2021</td>\n",
              "      <td>14481.10</td>\n",
              "      <td>14731.70</td>\n",
              "      <td>14469.10</td>\n",
              "      <td>14647.80</td>\n",
              "    </tr>\n",
              "  </tbody>\n",
              "</table>\n",
              "<p>5247 rows × 5 columns</p>\n",
              "</div>"
            ],
            "text/plain": [
              "            Date      Open      High       Low     Close\n",
              "5246   03-Jan-00   1482.15   1592.90   1482.15   1592.20\n",
              "5245   04-Jan-00   1594.40   1641.95   1594.40   1638.70\n",
              "5244   05-Jan-00   1634.55   1635.50   1555.05   1595.80\n",
              "5243   06-Jan-00   1595.80   1639.00   1595.80   1617.60\n",
              "5242   07-Jan-00   1616.60   1628.25   1597.20   1613.30\n",
              "...          ...       ...       ...       ...       ...\n",
              "4     27-01-2021  14237.95  14237.95  13929.30  13967.50\n",
              "3     28-01-2021  13810.40  13898.25  13713.25  13817.55\n",
              "2     29-01-2021  13946.60  13966.85  13596.75  13634.60\n",
              "1     01-02-2021  13758.60  14336.35  13661.75  14281.20\n",
              "0     02-02-2021  14481.10  14731.70  14469.10  14647.80\n",
              "\n",
              "[5247 rows x 5 columns]"
            ]
          },
          "metadata": {
            "tags": []
          },
          "execution_count": 3
        }
      ]
    },
    {
      "cell_type": "code",
      "metadata": {
        "id": "TFqnJ-UyU1w4"
      },
      "source": [
        "#using close coloum for prediction\r\n",
        "df1=df.reset_index()['Close']\r\n"
      ],
      "execution_count": null,
      "outputs": []
    },
    {
      "cell_type": "code",
      "metadata": {
        "colab": {
          "base_uri": "https://localhost:8080/"
        },
        "id": "bnFVvV_EU9KV",
        "outputId": "8ab51db4-8ef3-4eef-c3ad-b3e054b554e3"
      },
      "source": [
        "\r\n",
        "df1"
      ],
      "execution_count": null,
      "outputs": [
        {
          "output_type": "execute_result",
          "data": {
            "text/plain": [
              "0        1592.20\n",
              "1        1638.70\n",
              "2        1595.80\n",
              "3        1617.60\n",
              "4        1613.30\n",
              "          ...   \n",
              "5242    13967.50\n",
              "5243    13817.55\n",
              "5244    13634.60\n",
              "5245    14281.20\n",
              "5246    14647.80\n",
              "Name: Close, Length: 5247, dtype: float64"
            ]
          },
          "metadata": {
            "tags": []
          },
          "execution_count": 5
        }
      ]
    },
    {
      "cell_type": "code",
      "metadata": {
        "colab": {
          "base_uri": "https://localhost:8080/",
          "height": 281
        },
        "id": "oEO244t_U-x9",
        "outputId": "15e700da-850b-498d-910c-e4ff467077e3"
      },
      "source": [
        "#plotting the close data \r\n",
        "import matplotlib.pyplot as plt\r\n",
        "plt.plot(df1)"
      ],
      "execution_count": null,
      "outputs": [
        {
          "output_type": "execute_result",
          "data": {
            "text/plain": [
              "[<matplotlib.lines.Line2D at 0x7fb94a71deb8>]"
            ]
          },
          "metadata": {
            "tags": []
          },
          "execution_count": 6
        },
        {
          "output_type": "display_data",
          "data": {
            "image/png": "[encoded data removed]",
            "text/plain": [
              "<Figure size 432x288 with 1 Axes>"
            ]
          },
          "metadata": {
            "tags": [],
            "needs_background": "light"
          }
        }
      ]
    },
    {
      "cell_type": "code",
      "metadata": {
        "id": "GCzjukUlVA0c"
      },
      "source": [
        "## preprocessing the data\r\n",
        "import numpy as np\r\n"
      ],
      "execution_count": null,
      "outputs": []
    },
    {
      "cell_type": "code",
      "metadata": {
        "id": "P2wPjbIEVHDU"
      },
      "source": [
        "#scaling the data\r\n",
        "from sklearn.preprocessing import MinMaxScaler\r\n",
        "scaler=MinMaxScaler(feature_range=(0,1))\r\n",
        "df1=scaler.fit_transform(np.array(df1).reshape(-1,1))"
      ],
      "execution_count": null,
      "outputs": []
    },
    {
      "cell_type": "code",
      "metadata": {
        "colab": {
          "base_uri": "https://localhost:8080/"
        },
        "id": "znBABFjvVOhc",
        "outputId": "dbf39450-34ac-403f-be6d-460605bd079c"
      },
      "source": [
        "print(df1)"
      ],
      "execution_count": null,
      "outputs": [
        {
          "output_type": "stream",
          "text": [
            "[[0.05350307]\n",
            " [0.0568742 ]\n",
            " [0.05376406]\n",
            " ...\n",
            " [0.92654564]\n",
            " [0.97342246]\n",
            " [1.        ]]\n"
          ],
          "name": "stdout"
        }
      ]
    },
    {
      "cell_type": "code",
      "metadata": {
        "id": "nmGSQL6dVXF1"
      },
      "source": [
        "##splitting dataset into train and test split\r\n",
        "training_size=int(len(df1)*0.80)\r\n",
        "test_size=len(df1)-training_size\r\n",
        "train_data,test_data=df1[0:training_size,:],df1[training_size:len(df1),:1]"
      ],
      "execution_count": null,
      "outputs": []
    },
    {
      "cell_type": "code",
      "metadata": {
        "colab": {
          "base_uri": "https://localhost:8080/"
        },
        "id": "LZuHsfc3VY59",
        "outputId": "83aec717-1265-48fa-d3d6-d22376088812"
      },
      "source": [
        "training_size,test_size"
      ],
      "execution_count": null,
      "outputs": [
        {
          "output_type": "execute_result",
          "data": {
            "text/plain": [
              "(4197, 1050)"
            ]
          },
          "metadata": {
            "tags": []
          },
          "execution_count": 11
        }
      ]
    },
    {
      "cell_type": "code",
      "metadata": {
        "colab": {
          "base_uri": "https://localhost:8080/"
        },
        "id": "2ys3t-PhVeBF",
        "outputId": "0da6ef53-ff9e-4854-81ed-566b233cad90"
      },
      "source": [
        "train_data"
      ],
      "execution_count": null,
      "outputs": [
        {
          "output_type": "execute_result",
          "data": {
            "text/plain": [
              "array([[0.05350307],\n",
              "       [0.0568742 ],\n",
              "       [0.05376406],\n",
              "       ...,\n",
              "       [0.55320946],\n",
              "       [0.54949759],\n",
              "       [0.55408668]])"
            ]
          },
          "metadata": {
            "tags": []
          },
          "execution_count": 12
        }
      ]
    },
    {
      "cell_type": "code",
      "metadata": {
        "id": "wBCdH7BaVfm2"
      },
      "source": [
        "\r\n",
        "# convert an array of values into a dataset matrix \r\n",
        "def create_dataset(dataset, time_step=1):\r\n",
        "\tdataX, dataY = [], []\r\n",
        "\tfor i in range(len(dataset)-time_step-1):\r\n",
        "\t\ta = dataset[i:(i+time_step), 0]   ###i=0, 0,1,2,3-----99   100 \r\n",
        "\t\tdataX.append(a)\r\n",
        "\t\tdataY.append(dataset[i + time_step, 0])\r\n",
        "\treturn np.array(dataX), np.array(dataY)"
      ],
      "execution_count": null,
      "outputs": []
    },
    {
      "cell_type": "code",
      "metadata": {
        "id": "M3V-UI6eVo7N"
      },
      "source": [
        "# reshape into X=t,t+1,t+2,t+3 and Y=t+4\r\n",
        "time_step = 100\r\n",
        "X_train, y_train = create_dataset(train_data, time_step)\r\n",
        "X_test, ytest = create_dataset(test_data, time_step)"
      ],
      "execution_count": null,
      "outputs": []
    },
    {
      "cell_type": "code",
      "metadata": {
        "colab": {
          "base_uri": "https://localhost:8080/"
        },
        "id": "ZuK8dcmBVsTE",
        "outputId": "fe704b6d-a5ab-4a26-de56-50d956836d87"
      },
      "source": [
        "print(X_train.shape), print(y_train.shape)\r\n",
        "print(X_test.shape), print(ytest.shape)"
      ],
      "execution_count": null,
      "outputs": [
        {
          "output_type": "stream",
          "text": [
            "(4096, 100)\n",
            "(4096,)\n",
            "(949, 100)\n",
            "(949,)\n"
          ],
          "name": "stdout"
        },
        {
          "output_type": "execute_result",
          "data": {
            "text/plain": [
              "(None, None)"
            ]
          },
          "metadata": {
            "tags": []
          },
          "execution_count": 15
        }
      ]
    },
    {
      "cell_type": "code",
      "metadata": {
        "id": "L05Nu1BnV0PN"
      },
      "source": [
        "# reshape input to be [samples, time steps, features] which is required for LSTM\r\n",
        "X_train =X_train.reshape(X_train.shape[0],X_train.shape[1] , 1)\r\n",
        "X_test = X_test.reshape(X_test.shape[0],X_test.shape[1] , 1)"
      ],
      "execution_count": null,
      "outputs": []
    },
    {
      "cell_type": "code",
      "metadata": {
        "colab": {
          "base_uri": "https://localhost:8080/"
        },
        "id": "EePGjvsvV44N",
        "outputId": "fb89cca7-6927-49a5-e68b-6b69bde8981f"
      },
      "source": [
        "X_train.shape"
      ],
      "execution_count": null,
      "outputs": [
        {
          "output_type": "execute_result",
          "data": {
            "text/plain": [
              "(4096, 100, 1)"
            ]
          },
          "metadata": {
            "tags": []
          },
          "execution_count": 17
        }
      ]
    },
    {
      "cell_type": "code",
      "metadata": {
        "colab": {
          "base_uri": "https://localhost:8080/"
        },
        "id": "MxCrTG8vV7LV",
        "outputId": "06b2d621-fe39-4f9f-fbe2-381736f1df9b"
      },
      "source": [
        "### Create the Stacked LSTM model\r\n",
        "from tensorflow.keras.models import Sequential\r\n",
        "from tensorflow.keras.layers import Dense\r\n",
        "from tensorflow.keras.layers import LSTM\r\n",
        "model=Sequential()\r\n",
        "model.add(LSTM(50,return_sequences=True,input_shape=(100,1)))\r\n",
        "model.add(LSTM(100,return_sequences=True))\r\n",
        "model.add(LSTM(100))\r\n",
        "model.add(Dense(1))\r\n",
        "model.compile(loss='mean_squared_error',optimizer='adam')\r\n",
        "model.summary()"
      ],
      "execution_count": null,
      "outputs": [
        {
          "output_type": "stream",
          "text": [
            "Model: \"sequential\"\n",
            "_________________________________________________________________\n",
            "Layer (type)                 Output Shape              Param #   \n",
            "=================================================================\n",
            "lstm (LSTM)                  (None, 100, 50)           10400     \n",
            "_________________________________________________________________\n",
            "lstm_1 (LSTM)                (None, 100, 100)          60400     \n",
            "_________________________________________________________________\n",
            "lstm_2 (LSTM)                (None, 100)               80400     \n",
            "_________________________________________________________________\n",
            "dense (Dense)                (None, 1)                 101       \n",
            "=================================================================\n",
            "Total params: 151,301\n",
            "Trainable params: 151,301\n",
            "Non-trainable params: 0\n",
            "_________________________________________________________________\n"
          ],
          "name": "stdout"
        }
      ]
    },
    {
      "cell_type": "code",
      "metadata": {
        "colab": {
          "base_uri": "https://localhost:8080/"
        },
        "id": "189ma-ELWBq9",
        "outputId": "74e6ee22-ec0e-4724-b404-5a5d79052352"
      },
      "source": [
        "model.fit(X_train,y_train,validation_data=(X_test,ytest),epochs=100,batch_size=32,verbose=1)"
      ],
      "execution_count": null,
      "outputs": [
        {
          "output_type": "stream",
          "text": [
            "Epoch 1/100\n",
            "128/128 [==============================] - 8s 23ms/step - loss: 0.0085 - val_loss: 0.0011\n",
            "Epoch 2/100\n",
            "128/128 [==============================] - 2s 14ms/step - loss: 1.5436e-04 - val_loss: 0.0013\n",
            "Epoch 3/100\n",
            "128/128 [==============================] - 2s 14ms/step - loss: 1.7555e-04 - val_loss: 0.0012\n",
            "Epoch 4/100\n",
            "128/128 [==============================] - 2s 14ms/step - loss: 1.4337e-04 - val_loss: 0.0012\n",
            "Epoch 5/100\n",
            "128/128 [==============================] - 2s 14ms/step - loss: 1.4509e-04 - val_loss: 5.6505e-04\n",
            "Epoch 6/100\n",
            "128/128 [==============================] - 2s 14ms/step - loss: 1.3770e-04 - val_loss: 7.2534e-04\n",
            "Epoch 7/100\n",
            "128/128 [==============================] - 2s 14ms/step - loss: 1.2633e-04 - val_loss: 8.0891e-04\n",
            "Epoch 8/100\n",
            "128/128 [==============================] - 2s 14ms/step - loss: 1.0430e-04 - val_loss: 4.1919e-04\n",
            "Epoch 9/100\n",
            "128/128 [==============================] - 2s 14ms/step - loss: 9.1521e-05 - val_loss: 4.3782e-04\n",
            "Epoch 10/100\n",
            "128/128 [==============================] - 2s 14ms/step - loss: 8.8418e-05 - val_loss: 3.0392e-04\n",
            "Epoch 11/100\n",
            "128/128 [==============================] - 2s 14ms/step - loss: 8.7371e-05 - val_loss: 2.7597e-04\n",
            "Epoch 12/100\n",
            "128/128 [==============================] - 2s 14ms/step - loss: 1.1272e-04 - val_loss: 3.3221e-04\n",
            "Epoch 13/100\n",
            "128/128 [==============================] - 2s 14ms/step - loss: 8.4355e-05 - val_loss: 2.1691e-04\n",
            "Epoch 14/100\n",
            "128/128 [==============================] - 2s 15ms/step - loss: 7.8945e-05 - val_loss: 7.7978e-04\n",
            "Epoch 15/100\n",
            "128/128 [==============================] - 2s 14ms/step - loss: 6.9873e-05 - val_loss: 1.7154e-04\n",
            "Epoch 16/100\n",
            "128/128 [==============================] - 2s 14ms/step - loss: 6.6123e-05 - val_loss: 1.8842e-04\n",
            "Epoch 17/100\n",
            "128/128 [==============================] - 2s 14ms/step - loss: 6.1911e-05 - val_loss: 1.7746e-04\n",
            "Epoch 18/100\n",
            "128/128 [==============================] - 2s 14ms/step - loss: 5.3096e-05 - val_loss: 1.3177e-04\n",
            "Epoch 19/100\n",
            "128/128 [==============================] - 2s 14ms/step - loss: 5.1503e-05 - val_loss: 1.8092e-04\n",
            "Epoch 20/100\n",
            "128/128 [==============================] - 2s 14ms/step - loss: 5.3816e-05 - val_loss: 1.1782e-04\n",
            "Epoch 21/100\n",
            "128/128 [==============================] - 2s 14ms/step - loss: 4.7266e-05 - val_loss: 1.2758e-04\n",
            "Epoch 22/100\n",
            "128/128 [==============================] - 2s 14ms/step - loss: 4.2662e-05 - val_loss: 1.1678e-04\n",
            "Epoch 23/100\n",
            "128/128 [==============================] - 2s 14ms/step - loss: 5.3595e-05 - val_loss: 1.1835e-04\n",
            "Epoch 24/100\n",
            "128/128 [==============================] - 2s 14ms/step - loss: 3.4231e-05 - val_loss: 3.8172e-04\n",
            "Epoch 25/100\n",
            "128/128 [==============================] - 2s 14ms/step - loss: 5.2042e-05 - val_loss: 9.1726e-05\n",
            "Epoch 26/100\n",
            "128/128 [==============================] - 2s 14ms/step - loss: 3.4075e-05 - val_loss: 1.2131e-04\n",
            "Epoch 27/100\n",
            "128/128 [==============================] - 2s 14ms/step - loss: 4.2863e-05 - val_loss: 2.7461e-04\n",
            "Epoch 28/100\n",
            "128/128 [==============================] - 2s 14ms/step - loss: 4.3606e-05 - val_loss: 9.1007e-05\n",
            "Epoch 29/100\n",
            "128/128 [==============================] - 2s 14ms/step - loss: 2.8292e-05 - val_loss: 1.5406e-04\n",
            "Epoch 30/100\n",
            "128/128 [==============================] - 2s 14ms/step - loss: 3.4509e-05 - val_loss: 8.4946e-05\n",
            "Epoch 31/100\n",
            "128/128 [==============================] - 2s 14ms/step - loss: 3.2478e-05 - val_loss: 8.8582e-05\n",
            "Epoch 32/100\n",
            "128/128 [==============================] - 2s 14ms/step - loss: 2.4471e-05 - val_loss: 9.2750e-05\n",
            "Epoch 33/100\n",
            "128/128 [==============================] - 2s 14ms/step - loss: 2.7115e-05 - val_loss: 9.2704e-05\n",
            "Epoch 34/100\n",
            "128/128 [==============================] - 2s 14ms/step - loss: 2.8090e-05 - val_loss: 2.3013e-04\n",
            "Epoch 35/100\n",
            "128/128 [==============================] - 2s 14ms/step - loss: 3.7947e-05 - val_loss: 1.1457e-04\n",
            "Epoch 36/100\n",
            "128/128 [==============================] - 2s 14ms/step - loss: 3.8274e-05 - val_loss: 1.0145e-04\n",
            "Epoch 37/100\n",
            "128/128 [==============================] - 2s 14ms/step - loss: 3.5501e-05 - val_loss: 1.0184e-04\n",
            "Epoch 38/100\n",
            "128/128 [==============================] - 2s 14ms/step - loss: 2.3754e-05 - val_loss: 1.1498e-04\n",
            "Epoch 39/100\n",
            "128/128 [==============================] - 2s 14ms/step - loss: 2.4322e-05 - val_loss: 4.0879e-04\n",
            "Epoch 40/100\n",
            "128/128 [==============================] - 2s 14ms/step - loss: 3.6819e-05 - val_loss: 1.0912e-04\n",
            "Epoch 41/100\n",
            "128/128 [==============================] - 2s 14ms/step - loss: 2.8969e-05 - val_loss: 2.2996e-04\n",
            "Epoch 42/100\n",
            "128/128 [==============================] - 2s 14ms/step - loss: 6.0078e-05 - val_loss: 1.1721e-04\n",
            "Epoch 43/100\n",
            "128/128 [==============================] - 2s 14ms/step - loss: 2.2813e-05 - val_loss: 2.1133e-04\n",
            "Epoch 44/100\n",
            "128/128 [==============================] - 2s 14ms/step - loss: 2.6244e-05 - val_loss: 1.6118e-04\n",
            "Epoch 45/100\n",
            "128/128 [==============================] - 2s 14ms/step - loss: 2.7861e-05 - val_loss: 1.2399e-04\n",
            "Epoch 46/100\n",
            "128/128 [==============================] - 2s 14ms/step - loss: 2.8827e-05 - val_loss: 2.4684e-04\n",
            "Epoch 47/100\n",
            "128/128 [==============================] - 2s 14ms/step - loss: 3.0037e-05 - val_loss: 1.1976e-04\n",
            "Epoch 48/100\n",
            "128/128 [==============================] - 2s 14ms/step - loss: 2.6951e-05 - val_loss: 1.1442e-04\n",
            "Epoch 49/100\n",
            "128/128 [==============================] - 2s 14ms/step - loss: 2.2977e-05 - val_loss: 1.9153e-04\n",
            "Epoch 50/100\n",
            "128/128 [==============================] - 2s 14ms/step - loss: 3.2501e-05 - val_loss: 1.2267e-04\n",
            "Epoch 51/100\n",
            "128/128 [==============================] - 2s 14ms/step - loss: 2.7840e-05 - val_loss: 1.5086e-04\n",
            "Epoch 52/100\n",
            "128/128 [==============================] - 2s 14ms/step - loss: 2.8374e-05 - val_loss: 1.9191e-04\n",
            "Epoch 53/100\n",
            "128/128 [==============================] - 2s 14ms/step - loss: 3.2987e-05 - val_loss: 1.7284e-04\n",
            "Epoch 54/100\n",
            "128/128 [==============================] - 2s 14ms/step - loss: 2.5692e-05 - val_loss: 2.2528e-04\n",
            "Epoch 55/100\n",
            "128/128 [==============================] - 2s 14ms/step - loss: 3.0116e-05 - val_loss: 1.2223e-04\n",
            "Epoch 56/100\n",
            "128/128 [==============================] - 2s 14ms/step - loss: 2.7623e-05 - val_loss: 1.1582e-04\n",
            "Epoch 57/100\n",
            "128/128 [==============================] - 2s 14ms/step - loss: 2.5369e-05 - val_loss: 1.3051e-04\n",
            "Epoch 58/100\n",
            "128/128 [==============================] - 2s 14ms/step - loss: 2.5673e-05 - val_loss: 2.8262e-04\n",
            "Epoch 59/100\n",
            "128/128 [==============================] - 2s 14ms/step - loss: 2.7951e-05 - val_loss: 3.0662e-04\n",
            "Epoch 60/100\n",
            "128/128 [==============================] - 2s 14ms/step - loss: 3.3695e-05 - val_loss: 2.7249e-04\n",
            "Epoch 61/100\n",
            "128/128 [==============================] - 2s 14ms/step - loss: 2.4320e-05 - val_loss: 1.3751e-04\n",
            "Epoch 62/100\n",
            "128/128 [==============================] - 2s 14ms/step - loss: 2.1255e-05 - val_loss: 2.5941e-04\n",
            "Epoch 63/100\n",
            "128/128 [==============================] - 2s 14ms/step - loss: 2.4919e-05 - val_loss: 2.7940e-04\n",
            "Epoch 64/100\n",
            "128/128 [==============================] - 2s 14ms/step - loss: 2.7713e-05 - val_loss: 1.1248e-04\n",
            "Epoch 65/100\n",
            "128/128 [==============================] - 2s 14ms/step - loss: 3.0239e-05 - val_loss: 1.4551e-04\n",
            "Epoch 66/100\n",
            "128/128 [==============================] - 2s 14ms/step - loss: 2.7799e-05 - val_loss: 1.7203e-04\n",
            "Epoch 67/100\n",
            "128/128 [==============================] - 2s 14ms/step - loss: 2.3556e-05 - val_loss: 1.1435e-04\n",
            "Epoch 68/100\n",
            "128/128 [==============================] - 2s 14ms/step - loss: 2.9175e-05 - val_loss: 1.9254e-04\n",
            "Epoch 69/100\n",
            "128/128 [==============================] - 2s 14ms/step - loss: 2.4729e-05 - val_loss: 3.0528e-04\n",
            "Epoch 70/100\n",
            "128/128 [==============================] - 2s 14ms/step - loss: 2.6363e-05 - val_loss: 2.7474e-04\n",
            "Epoch 71/100\n",
            "128/128 [==============================] - 2s 14ms/step - loss: 2.3304e-05 - val_loss: 1.1604e-04\n",
            "Epoch 72/100\n",
            "128/128 [==============================] - 2s 14ms/step - loss: 2.4344e-05 - val_loss: 1.1186e-04\n",
            "Epoch 73/100\n",
            "128/128 [==============================] - 2s 14ms/step - loss: 2.4454e-05 - val_loss: 1.6778e-04\n",
            "Epoch 74/100\n",
            "128/128 [==============================] - 2s 14ms/step - loss: 2.7330e-05 - val_loss: 1.5780e-04\n",
            "Epoch 75/100\n",
            "128/128 [==============================] - 2s 15ms/step - loss: 2.2105e-05 - val_loss: 2.5177e-04\n",
            "Epoch 76/100\n",
            "128/128 [==============================] - 2s 14ms/step - loss: 3.0397e-05 - val_loss: 1.5813e-04\n",
            "Epoch 77/100\n",
            "128/128 [==============================] - 2s 14ms/step - loss: 2.5328e-05 - val_loss: 1.9901e-04\n",
            "Epoch 78/100\n",
            "128/128 [==============================] - 2s 14ms/step - loss: 2.5764e-05 - val_loss: 1.6432e-04\n",
            "Epoch 79/100\n",
            "128/128 [==============================] - 2s 14ms/step - loss: 2.6475e-05 - val_loss: 1.1526e-04\n",
            "Epoch 80/100\n",
            "128/128 [==============================] - 2s 14ms/step - loss: 3.0204e-05 - val_loss: 2.2538e-04\n",
            "Epoch 81/100\n",
            "128/128 [==============================] - 2s 14ms/step - loss: 2.6726e-05 - val_loss: 1.1097e-04\n",
            "Epoch 82/100\n",
            "128/128 [==============================] - 2s 14ms/step - loss: 2.4397e-05 - val_loss: 2.0325e-04\n",
            "Epoch 83/100\n",
            "128/128 [==============================] - 2s 14ms/step - loss: 2.9461e-05 - val_loss: 1.1776e-04\n",
            "Epoch 84/100\n",
            "128/128 [==============================] - 2s 14ms/step - loss: 2.1585e-05 - val_loss: 1.4844e-04\n",
            "Epoch 85/100\n",
            "128/128 [==============================] - 2s 14ms/step - loss: 2.5700e-05 - val_loss: 1.2461e-04\n",
            "Epoch 86/100\n",
            "128/128 [==============================] - 2s 14ms/step - loss: 3.1381e-05 - val_loss: 1.1251e-04\n",
            "Epoch 87/100\n",
            "128/128 [==============================] - 2s 14ms/step - loss: 2.4963e-05 - val_loss: 1.1752e-04\n",
            "Epoch 88/100\n",
            "128/128 [==============================] - 2s 14ms/step - loss: 2.1378e-05 - val_loss: 2.0722e-04\n",
            "Epoch 89/100\n",
            "128/128 [==============================] - 2s 14ms/step - loss: 2.1347e-05 - val_loss: 2.7150e-04\n",
            "Epoch 90/100\n",
            "128/128 [==============================] - 2s 14ms/step - loss: 2.3137e-05 - val_loss: 1.5515e-04\n",
            "Epoch 91/100\n",
            "128/128 [==============================] - 2s 14ms/step - loss: 2.4563e-05 - val_loss: 1.7507e-04\n",
            "Epoch 92/100\n",
            "128/128 [==============================] - 2s 14ms/step - loss: 2.4031e-05 - val_loss: 1.4877e-04\n",
            "Epoch 93/100\n",
            "128/128 [==============================] - 2s 14ms/step - loss: 2.3871e-05 - val_loss: 2.5945e-04\n",
            "Epoch 94/100\n",
            "128/128 [==============================] - 2s 14ms/step - loss: 2.3339e-05 - val_loss: 1.2707e-04\n",
            "Epoch 95/100\n",
            "128/128 [==============================] - 2s 14ms/step - loss: 2.3623e-05 - val_loss: 1.9459e-04\n",
            "Epoch 96/100\n",
            "128/128 [==============================] - 2s 14ms/step - loss: 2.2790e-05 - val_loss: 2.3157e-04\n",
            "Epoch 97/100\n",
            "128/128 [==============================] - 2s 14ms/step - loss: 2.4920e-05 - val_loss: 1.1653e-04\n",
            "Epoch 98/100\n",
            "128/128 [==============================] - 2s 14ms/step - loss: 2.3355e-05 - val_loss: 2.2893e-04\n",
            "Epoch 99/100\n",
            "128/128 [==============================] - 2s 14ms/step - loss: 2.3123e-05 - val_loss: 2.6345e-04\n",
            "Epoch 100/100\n",
            "128/128 [==============================] - 2s 14ms/step - loss: 2.7156e-05 - val_loss: 1.4490e-04\n"
          ],
          "name": "stdout"
        },
        {
          "output_type": "execute_result",
          "data": {
            "text/plain": [
              "<tensorflow.python.keras.callbacks.History at 0x7fb8b0415518>"
            ]
          },
          "metadata": {
            "tags": []
          },
          "execution_count": 19
        }
      ]
    },
    {
      "cell_type": "code",
      "metadata": {
        "id": "eaWyzPriWF7t"
      },
      "source": [
        "import tensorflow as tf\r\n",
        "### Lets Do the prediction and check performance metrics\r\n",
        "train_predict=model.predict(X_train)\r\n",
        "test_predict=model.predict(X_test)\r\n"
      ],
      "execution_count": null,
      "outputs": []
    },
    {
      "cell_type": "code",
      "metadata": {
        "id": "_AotRCFNXcGX"
      },
      "source": [
        "##Transformback to original form\r\n",
        "train_predict=scaler.inverse_transform(train_predict)\r\n",
        "test_predict=scaler.inverse_transform(test_predict)"
      ],
      "execution_count": null,
      "outputs": []
    },
    {
      "cell_type": "code",
      "metadata": {
        "colab": {
          "base_uri": "https://localhost:8080/"
        },
        "id": "0Qbx0_wkWadp",
        "outputId": "47f312f8-8b9a-49e9-dca8-c663eac36aeb"
      },
      "source": [
        "### Calculate RMSE performance metrics\r\n",
        "import math\r\n",
        "from sklearn.metrics import mean_squared_error\r\n",
        "yt=math.sqrt(mean_squared_error(y_train,train_predict))\r\n",
        "print(yt)\r\n",
        "### Test Data RMSE\r\n",
        "yte=math.sqrt(mean_squared_error(ytest,test_predict))\r\n",
        "print(yte)"
      ],
      "execution_count": null,
      "outputs": [
        {
          "output_type": "stream",
          "text": [
            "4808.791765101228\n",
            "10903.855020883142\n"
          ],
          "name": "stdout"
        }
      ]
    },
    {
      "cell_type": "code",
      "metadata": {
        "colab": {
          "base_uri": "https://localhost:8080/",
          "height": 265
        },
        "id": "9PyBxQi0WzoU",
        "outputId": "a2f28890-98a1-42a0-d35b-211b1d3ec5c4"
      },
      "source": [
        "### Plotting \r\n",
        "# shift train predictions for plotting\r\n",
        "look_back=100\r\n",
        "trainPredictPlot = np.empty_like(df1)\r\n",
        "trainPredictPlot[:, :] = np.nan\r\n",
        "trainPredictPlot[look_back:len(train_predict)+look_back, :] = train_predict\r\n",
        "# shift test predictions for plotting\r\n",
        "testPredictPlot = np.empty_like(df1)\r\n",
        "testPredictPlot[:, :] = np.nan\r\n",
        "testPredictPlot[len(train_predict)+(look_back*2)+1:len(df1)-1, :] = test_predict\r\n",
        "# plot baseline and predictions\r\n",
        "plt.plot(scaler.inverse_transform(df1))\r\n",
        "plt.plot(trainPredictPlot)\r\n",
        "plt.plot(testPredictPlot)\r\n",
        "plt.show()"
      ],
      "execution_count": null,
      "outputs": [
        {
          "output_type": "display_data",
          "data": {
            "image/png": "[encoded data removed]",
            "text/plain": [
              "<Figure size 432x288 with 1 Axes>"
            ]
          },
          "metadata": {
            "tags": [],
            "needs_background": "light"
          }
        }
      ]
    },
    {
      "cell_type": "code",
      "metadata": {
        "colab": {
          "base_uri": "https://localhost:8080/"
        },
        "id": "uaUCUMG9XoKV",
        "outputId": "29f00def-e026-4d7a-f3ae-ea7c99e65c40"
      },
      "source": [
        "#predict the next 30 days as len of test data is 1833 to calucate the output we will take last 100 days data \r\n",
        "x_input=test_data[950:].reshape(1,-1)\r\n",
        "x_input.shape\r\n"
      ],
      "execution_count": null,
      "outputs": [
        {
          "output_type": "execute_result",
          "data": {
            "text/plain": [
              "(1, 100)"
            ]
          },
          "metadata": {
            "tags": []
          },
          "execution_count": 24
        }
      ]
    },
    {
      "cell_type": "code",
      "metadata": {
        "id": "SxWeu9nvX10l"
      },
      "source": [
        "#convert the data into list\r\n",
        "temp_input=list(x_input)\r\n",
        "temp_input=temp_input[0].tolist()"
      ],
      "execution_count": null,
      "outputs": []
    },
    {
      "cell_type": "code",
      "metadata": {
        "colab": {
          "base_uri": "https://localhost:8080/"
        },
        "id": "U4wPnqZ5Y1-l",
        "outputId": "f7217bbd-45cd-482b-b181-8351e6936c91"
      },
      "source": [
        "# demonstrate prediction for next day\r\n",
        "from numpy import array\r\n",
        "\r\n",
        "lst_output=[]\r\n",
        "n_steps=100\r\n",
        "i=0\r\n",
        "while(i<1):\r\n",
        "    \r\n",
        "    if(len(temp_input)>100):\r\n",
        "        #print(temp_input)\r\n",
        "        #leave last day\r\n",
        "        x_input=np.array(temp_input[1:])\r\n",
        "        print(\"{} day input {}\".format(i,x_input))\r\n",
        "        x_input=x_input.reshape(1,-1)\r\n",
        "        x_input = x_input.reshape((1, n_steps, 1))\r\n",
        "        #print(x_input)\r\n",
        "        yhat = model.predict(x_input, verbose=0)\r\n",
        "        print(\"{} day output {}\".format(i,yhat))\r\n",
        "        temp_input.extend(yhat[0].tolist())\r\n",
        "        temp_input=temp_input[1:]\r\n",
        "        #print(temp_input)\r\n",
        "        lst_output.extend(yhat.tolist())\r\n",
        "        i=i+1\r\n",
        "    else:\r\n",
        "      #this will run \r\n",
        "      # first reshape the data \r\n",
        "        x_input = x_input.reshape((1, n_steps,1))\r\n",
        "        #predict the valve and save in yhat\r\n",
        "        yhat = model.predict(x_input, verbose=0)\r\n",
        "        print(yhat[0])\r\n",
        "        # add to this list as the lenth is increased by 1 loop will go in if clause\r\n",
        "        temp_input.extend(yhat[0].tolist())\r\n",
        "        print(len(temp_input))\r\n",
        "        lst_output.extend(yhat.tolist())\r\n",
        "        i=i+1\r\n",
        "    \r\n",
        "\r\n",
        "print(lst_output)"
      ],
      "execution_count": null,
      "outputs": [
        {
          "output_type": "stream",
          "text": [
            "[0.97537506]\n",
            "101\n",
            "[[0.9753750562667847]]\n"
          ],
          "name": "stdout"
        }
      ]
    },
    {
      "cell_type": "code",
      "metadata": {
        "colab": {
          "base_uri": "https://localhost:8080/"
        },
        "id": "gtjw3lUlkimp",
        "outputId": "55cce0a9-7028-4e06-bb49-fc79d8ab666a"
      },
      "source": [
        "#Prediction for 18 January 2021\n",
        "a = scaler.inverse_transform(lst_output)\n",
        "a"
      ],
      "execution_count": null,
      "outputs": [
        {
          "output_type": "execute_result",
          "data": {
            "text/plain": [
              "array([[14308.13337612]])"
            ]
          },
          "metadata": {
            "tags": []
          },
          "execution_count": 27
        }
      ]
    },
    {
      "cell_type": "code",
      "metadata": {
        "colab": {
          "base_uri": "https://localhost:8080/"
        },
        "id": "6_PZK56f7eT8",
        "outputId": "205b1565-7407-40a3-f659-b5f4a21ea8f9"
      },
      "source": [
        "## saving the output into a csv\r\n",
        "prediction = a[[0]]\r\n",
        "print('Predicted value for next day=',prediction)\r\n",
        "b = df['Close'].iloc[-1]\r\n",
        "print('last close price=',b)\r\n",
        "percentage = ((prediction-b)/b)*100\r\n",
        "print('percentage change should be =', percentage.round(3),'%' )"
      ],
      "execution_count": null,
      "outputs": [
        {
          "output_type": "stream",
          "text": [
            "Predicted value for next day= [[14308.13337612]]\n",
            "last close price= 14647.8\n",
            "percentage change should be = [[-2.319]] %\n"
          ],
          "name": "stdout"
        }
      ]
    }
  ]
}